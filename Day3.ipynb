{
 "cells": [
  {
   "cell_type": "markdown",
   "id": "85781b95-dcfe-4d64-be08-df6cad951d93",
   "metadata": {},
   "source": [
    "## Logical operator\n",
    "1. And\n",
    "2. or\n",
    "3. not\n",
    "    "
   ]
  },
  {
   "cell_type": "code",
   "execution_count": 3,
   "id": "ac3b5a63-e836-43a1-bebe-c193c066f3c1",
   "metadata": {},
   "outputs": [
    {
     "data": {
      "text/plain": [
       "False"
      ]
     },
     "execution_count": 3,
     "metadata": {},
     "output_type": "execute_result"
    }
   ],
   "source": [
    "True and False "
   ]
  },
  {
   "cell_type": "code",
   "execution_count": 4,
   "id": "74de6a0c-0a85-409a-b33f-b25f97dc2690",
   "metadata": {},
   "outputs": [
    {
     "data": {
      "text/plain": [
       "True"
      ]
     },
     "execution_count": 4,
     "metadata": {},
     "output_type": "execute_result"
    }
   ],
   "source": [
    "True or False"
   ]
  },
  {
   "cell_type": "code",
   "execution_count": 6,
   "id": "daa36bb3-21cd-43de-a5dc-d5b14d5d80f1",
   "metadata": {},
   "outputs": [
    {
     "data": {
      "text/plain": [
       "False"
      ]
     },
     "execution_count": 6,
     "metadata": {},
     "output_type": "execute_result"
    }
   ],
   "source": [
    "not True"
   ]
  },
  {
   "cell_type": "code",
   "execution_count": 7,
   "id": "078f1709-f6e9-439b-bfc7-b4699cc105e6",
   "metadata": {},
   "outputs": [
    {
     "data": {
      "text/plain": [
       "True"
      ]
     },
     "execution_count": 7,
     "metadata": {},
     "output_type": "execute_result"
    }
   ],
   "source": [
    "not bool(0)"
   ]
  },
  {
   "cell_type": "code",
   "execution_count": 8,
   "id": "7f478878-3ab8-45ec-908d-f69eadd9ba94",
   "metadata": {},
   "outputs": [
    {
     "data": {
      "text/plain": [
       "True"
      ]
     },
     "execution_count": 8,
     "metadata": {},
     "output_type": "execute_result"
    }
   ],
   "source": [
    "not int(bool(0))"
   ]
  },
  {
   "cell_type": "code",
   "execution_count": 11,
   "id": "385ba37c-991d-43da-ab46-68d318290d6e",
   "metadata": {},
   "outputs": [
    {
     "data": {
      "text/plain": [
       "False"
      ]
     },
     "execution_count": 11,
     "metadata": {},
     "output_type": "execute_result"
    }
   ],
   "source": [
    "not int(bool(1))"
   ]
  },
  {
   "cell_type": "code",
   "execution_count": 12,
   "id": "b95cace4-ef79-4d28-aaa0-d36556f101d4",
   "metadata": {},
   "outputs": [
    {
     "data": {
      "text/plain": [
       "False"
      ]
     },
     "execution_count": 12,
     "metadata": {},
     "output_type": "execute_result"
    }
   ],
   "source": [
    "not 1"
   ]
  },
  {
   "cell_type": "code",
   "execution_count": 13,
   "id": "687a1847-4a57-4dfd-912c-8daf2fb843fa",
   "metadata": {},
   "outputs": [
    {
     "data": {
      "text/plain": [
       "True"
      ]
     },
     "execution_count": 13,
     "metadata": {},
     "output_type": "execute_result"
    }
   ],
   "source": [
    "not 0"
   ]
  },
  {
   "cell_type": "code",
   "execution_count": 14,
   "id": "15ebf4b1-a22d-4777-bc9d-13e9bdec5dd8",
   "metadata": {},
   "outputs": [
    {
     "data": {
      "text/plain": [
       "False"
      ]
     },
     "execution_count": 14,
     "metadata": {},
     "output_type": "execute_result"
    }
   ],
   "source": [
    "not 2"
   ]
  },
  {
   "cell_type": "code",
   "execution_count": 15,
   "id": "c7859faa-9466-4e78-a940-d05874054285",
   "metadata": {},
   "outputs": [
    {
     "data": {
      "text/plain": [
       "False"
      ]
     },
     "execution_count": 15,
     "metadata": {},
     "output_type": "execute_result"
    }
   ],
   "source": [
    "not -1"
   ]
  },
  {
   "cell_type": "markdown",
   "id": "121f9858-15ac-4741-8db4-cbe64f8c5a5d",
   "metadata": {},
   "source": [
    "## Logical And"
   ]
  },
  {
   "cell_type": "code",
   "execution_count": 16,
   "id": "444c5ffb-45aa-4b3a-b7f8-fafbabcb7dbe",
   "metadata": {},
   "outputs": [
    {
     "data": {
      "text/plain": [
       "True"
      ]
     },
     "execution_count": 16,
     "metadata": {},
     "output_type": "execute_result"
    }
   ],
   "source": [
    "not(False) * True"
   ]
  },
  {
   "cell_type": "code",
   "execution_count": 17,
   "id": "7e106125-af55-479e-ac60-40fe5bdb02a0",
   "metadata": {},
   "outputs": [
    {
     "data": {
      "text/plain": [
       "0"
      ]
     },
     "execution_count": 17,
     "metadata": {},
     "output_type": "execute_result"
    }
   ],
   "source": [
    "False * (not(False))"
   ]
  },
  {
   "cell_type": "code",
   "execution_count": 18,
   "id": "e041ad1f-d2f7-46a5-9af9-df7cebdb9754",
   "metadata": {},
   "outputs": [
    {
     "data": {
      "text/plain": [
       "True"
      ]
     },
     "execution_count": 18,
     "metadata": {},
     "output_type": "execute_result"
    }
   ],
   "source": [
    "not(True) * False"
   ]
  },
  {
   "cell_type": "code",
   "execution_count": 19,
   "id": "395b780b-254d-490f-b84d-0bf1a6775155",
   "metadata": {},
   "outputs": [
    {
     "data": {
      "text/plain": [
       "0"
      ]
     },
     "execution_count": 19,
     "metadata": {},
     "output_type": "execute_result"
    }
   ],
   "source": [
    "(not(True)) * False"
   ]
  },
  {
   "cell_type": "code",
   "execution_count": 20,
   "id": "9f87ccd9-84e4-4025-b603-c7148806eb1c",
   "metadata": {},
   "outputs": [
    {
     "data": {
      "text/plain": [
       "0"
      ]
     },
     "execution_count": 20,
     "metadata": {},
     "output_type": "execute_result"
    }
   ],
   "source": [
    "False * False "
   ]
  },
  {
   "cell_type": "code",
   "execution_count": 21,
   "id": "71c848f0-0be4-44d3-8cdd-4db2a2679f6f",
   "metadata": {},
   "outputs": [
    {
     "data": {
      "text/plain": [
       "True"
      ]
     },
     "execution_count": 21,
     "metadata": {},
     "output_type": "execute_result"
    }
   ],
   "source": [
    "not(False) * (False)"
   ]
  },
  {
   "cell_type": "code",
   "execution_count": 22,
   "id": "337b9f18-2437-44a9-a1e8-ee6d0040f601",
   "metadata": {},
   "outputs": [
    {
     "data": {
      "text/plain": [
       "True"
      ]
     },
     "execution_count": 22,
     "metadata": {},
     "output_type": "execute_result"
    }
   ],
   "source": [
    "not False * False == True"
   ]
  },
  {
   "cell_type": "code",
   "execution_count": 23,
   "id": "4ef7bf98-4bcc-4f3e-9cfb-b30b0abc6836",
   "metadata": {},
   "outputs": [
    {
     "name": "stdout",
     "output_type": "stream",
     "text": [
      "0\n"
     ]
    }
   ],
   "source": [
    "print((not(False)) * False)"
   ]
  },
  {
   "cell_type": "code",
   "execution_count": 24,
   "id": "bcb79ee7-eeaa-4183-8661-df64b5e0b112",
   "metadata": {},
   "outputs": [
    {
     "data": {
      "text/plain": [
       "14.0"
      ]
     },
     "execution_count": 24,
     "metadata": {},
     "output_type": "execute_result"
    }
   ],
   "source": [
    "2*3+40/5"
   ]
  },
  {
   "cell_type": "markdown",
   "id": "585d4dc5-1987-465e-baa8-878c611e6817",
   "metadata": {},
   "source": [
    "## Equality Operator\n",
    "  ### Following operation are represent in python for equality check operation.\n",
    "    \n",
    "## Operation                                                Meaning                                                                       ### is             a is b return true if variable/identifires a and b point to the same object\n",
    "### is not          a is not b return true if variable/identifire a and b points to the different object\n",
    "### ==              a==b return true if variable/identifire a and b has same value\n",
    "### !=              a!=b  return true if variable/identifire a and b has different value"
   ]
  },
  {
   "cell_type": "code",
   "execution_count": 27,
   "id": "ae75c3b2-9311-41e9-b2b3-65f3317e405f",
   "metadata": {},
   "outputs": [],
   "source": [
    "lst_a=[1,2,3,4]\n",
    "lst_b=[1,2,3,4]\n",
    "\n"
   ]
  },
  {
   "cell_type": "code",
   "execution_count": 28,
   "id": "280ba5c9-d232-4776-8147-50babe4660f2",
   "metadata": {},
   "outputs": [
    {
     "name": "stdout",
     "output_type": "stream",
     "text": [
      "140337499472576\n",
      "140337456201664\n"
     ]
    }
   ],
   "source": [
    "print(id(lst_a))\n",
    "print(id(lst_b))\n"
   ]
  },
  {
   "cell_type": "code",
   "execution_count": 29,
   "id": "85e13d62-43dc-4e43-8d88-faca81cd2e13",
   "metadata": {},
   "outputs": [
    {
     "data": {
      "text/plain": [
       "False"
      ]
     },
     "execution_count": 29,
     "metadata": {},
     "output_type": "execute_result"
    }
   ],
   "source": [
    "lst_a is lst_b"
   ]
  },
  {
   "cell_type": "code",
   "execution_count": 30,
   "id": "8eda4208-7428-4af0-83ca-ce1904812b21",
   "metadata": {},
   "outputs": [],
   "source": [
    "lst_a=[1,2,3,4]\n",
    "lst_b=lst_a"
   ]
  },
  {
   "cell_type": "code",
   "execution_count": 31,
   "id": "eb404c84-997f-428e-b2be-8964eed7bff7",
   "metadata": {},
   "outputs": [
    {
     "name": "stdout",
     "output_type": "stream",
     "text": [
      "140337456079872\n",
      "140337456079872\n"
     ]
    }
   ],
   "source": [
    "print(id(lst_a))\n",
    "print(id(lst_b))"
   ]
  },
  {
   "cell_type": "code",
   "execution_count": 33,
   "id": "9ec7e627-2ab1-4317-9c80-d8403c357d52",
   "metadata": {},
   "outputs": [
    {
     "data": {
      "text/plain": [
       "True"
      ]
     },
     "execution_count": 33,
     "metadata": {},
     "output_type": "execute_result"
    }
   ],
   "source": [
    "lst_a is lst_b"
   ]
  },
  {
   "cell_type": "code",
   "execution_count": 34,
   "id": "227eadac-2df5-4b54-bbc4-0fd1a8d02248",
   "metadata": {},
   "outputs": [
    {
     "data": {
      "text/plain": [
       "True"
      ]
     },
     "execution_count": 34,
     "metadata": {},
     "output_type": "execute_result"
    }
   ],
   "source": [
    "lst_a=[1,2,3,4]\n",
    "lst_b=[1,2,3,4]\n",
    "\n",
    "lst_a is not lst_b"
   ]
  },
  {
   "cell_type": "code",
   "execution_count": 35,
   "id": "b1c1d01a-fc45-4d25-b2c2-1096876db82b",
   "metadata": {},
   "outputs": [],
   "source": [
    "a=2\n",
    "b=2"
   ]
  },
  {
   "cell_type": "code",
   "execution_count": 36,
   "id": "f9f9bcba-9de1-48f3-88c9-6e98316bdf86",
   "metadata": {},
   "outputs": [
    {
     "name": "stdout",
     "output_type": "stream",
     "text": [
      "140337548443920\n",
      "140337548443920\n"
     ]
    }
   ],
   "source": [
    "print(id(a))\n",
    "print(id(b))"
   ]
  },
  {
   "cell_type": "code",
   "execution_count": 37,
   "id": "785304db-9f41-4c6e-a8de-c5c82ba8d103",
   "metadata": {},
   "outputs": [
    {
     "name": "stdout",
     "output_type": "stream",
     "text": [
      "140337200322544\n",
      "140337200322544\n"
     ]
    }
   ],
   "source": [
    "str1=\"Mirza\"\n",
    "str2=\"Mirza\"\n",
    "print(id(str1))\n",
    "print(id(str2))"
   ]
  },
  {
   "cell_type": "code",
   "execution_count": 38,
   "id": "d5a566b5-121c-4266-919f-a49a7195e54a",
   "metadata": {},
   "outputs": [
    {
     "data": {
      "text/plain": [
       "[1, 2, 3, 4]"
      ]
     },
     "execution_count": 38,
     "metadata": {},
     "output_type": "execute_result"
    }
   ],
   "source": [
    "lst_a"
   ]
  },
  {
   "cell_type": "code",
   "execution_count": 41,
   "id": "a1caa0cc-4975-4451-be5a-dd47f1b349bf",
   "metadata": {},
   "outputs": [],
   "source": [
    "lst_a[0]=10"
   ]
  },
  {
   "cell_type": "code",
   "execution_count": 43,
   "id": "701fecaa-86f6-41c4-a67c-f4f4f88fa16d",
   "metadata": {},
   "outputs": [
    {
     "data": {
      "text/plain": [
       "[10, 2, 3, 4]"
      ]
     },
     "execution_count": 43,
     "metadata": {},
     "output_type": "execute_result"
    }
   ],
   "source": [
    "lst_a"
   ]
  },
  {
   "cell_type": "code",
   "execution_count": 44,
   "id": "d406e5fe-b305-4966-bb45-c6c7101a8a39",
   "metadata": {},
   "outputs": [
    {
     "data": {
      "text/plain": [
       "'Mirza'"
      ]
     },
     "execution_count": 44,
     "metadata": {},
     "output_type": "execute_result"
    }
   ],
   "source": [
    "str1"
   ]
  },
  {
   "cell_type": "code",
   "execution_count": 45,
   "id": "5ed85455-f75b-4eb1-a46e-f2acd5b2fc23",
   "metadata": {},
   "outputs": [
    {
     "data": {
      "text/plain": [
       "'M'"
      ]
     },
     "execution_count": 45,
     "metadata": {},
     "output_type": "execute_result"
    }
   ],
   "source": [
    "str1[0]"
   ]
  },
  {
   "cell_type": "code",
   "execution_count": 49,
   "id": "d3f400f6-d6c8-4a13-8983-2d44f6679aa0",
   "metadata": {},
   "outputs": [
    {
     "ename": "TypeError",
     "evalue": "'str' object does not support item assignment",
     "output_type": "error",
     "traceback": [
      "\u001b[0;31m---------------------------------------------------------------------------\u001b[0m",
      "\u001b[0;31mTypeError\u001b[0m                                 Traceback (most recent call last)",
      "Cell \u001b[0;32mIn[49], line 1\u001b[0m\n\u001b[0;32m----> 1\u001b[0m \u001b[43mstr1\u001b[49m\u001b[43m[\u001b[49m\u001b[38;5;241;43m0\u001b[39;49m\u001b[43m]\u001b[49m\u001b[38;5;241m=\u001b[39m\u001b[38;5;124m'\u001b[39m\u001b[38;5;124mM\u001b[39m\u001b[38;5;124m'\u001b[39m \u001b[38;5;66;03m## immutable\u001b[39;00m\n",
      "\u001b[0;31mTypeError\u001b[0m: 'str' object does not support item assignment"
     ]
    }
   ],
   "source": [
    "str1[0]='M' ## immutable"
   ]
  },
  {
   "cell_type": "markdown",
   "id": "5867efbe-cc78-43d2-aa92-dc43c95fe1a9",
   "metadata": {},
   "source": [
    "## Comparsion operation "
   ]
  },
  {
   "cell_type": "markdown",
   "id": "90d51a68-93d7-4161-a182-fbc28d3743a1",
   "metadata": {},
   "source": [
    "### <   less than\n",
    "### <=  less than or equal to\n",
    "### >   greater than\n",
    "### >=  greater than or equal to"
   ]
  },
  {
   "cell_type": "code",
   "execution_count": 52,
   "id": "645e21e7-d87e-4930-a0b8-593e150b03bc",
   "metadata": {},
   "outputs": [
    {
     "name": "stdout",
     "output_type": "stream",
     "text": [
      "bike is faster than car: True\n"
     ]
    }
   ],
   "source": [
    "maxium_speed_of_bike = 150\n",
    "max_speed_of_car = 200\n",
    "\n",
    "print(f\"bike is faster than car: {maxium_speed_of_bike < max_speed_of_car}\")"
   ]
  },
  {
   "cell_type": "code",
   "execution_count": 56,
   "id": "25cff536-8746-46c3-a694-b051af1287c5",
   "metadata": {},
   "outputs": [
    {
     "name": "stdout",
     "output_type": "stream",
     "text": [
      "bike is faster than car: True\n"
     ]
    }
   ],
   "source": [
    "maxium_speed_of_bike = 150\n",
    "max_speed_of_car = 200\n",
    "\n",
    "print(f\"bike is faster than car: {maxium_speed_of_bike <= max_speed_of_car}\")"
   ]
  },
  {
   "cell_type": "markdown",
   "id": "136bb2d8-4b27-4790-949d-7286c4060de6",
   "metadata": {},
   "source": [
    "## Arthmethic Operation"
   ]
  },
  {
   "cell_type": "markdown",
   "id": "12c5b54c-2ac6-4bbd-a7d2-f61173be8f8b",
   "metadata": {},
   "source": [
    "#### +    addition\n",
    "#### -    subtraction\n",
    "#### *    multiplication\n",
    "#### /    true division\n",
    "#### //    integer division\n",
    "#### %     the modulo operator"
   ]
  },
  {
   "cell_type": "code",
   "execution_count": 59,
   "id": "cfae34d7-146f-487d-996f-1e695a1d81b5",
   "metadata": {},
   "outputs": [],
   "source": [
    "a=34\n",
    "b=84"
   ]
  },
  {
   "cell_type": "code",
   "execution_count": 60,
   "id": "f5a8fc18-c571-49e9-b8c2-4db580d4ae23",
   "metadata": {},
   "outputs": [
    {
     "data": {
      "text/plain": [
       "2856"
      ]
     },
     "execution_count": 60,
     "metadata": {},
     "output_type": "execute_result"
    }
   ],
   "source": [
    "a*b"
   ]
  },
  {
   "cell_type": "code",
   "execution_count": 61,
   "id": "87c46705-34d6-4393-a7a0-fbd668acc1c1",
   "metadata": {},
   "outputs": [
    {
     "data": {
      "text/plain": [
       "118"
      ]
     },
     "execution_count": 61,
     "metadata": {},
     "output_type": "execute_result"
    }
   ],
   "source": [
    "a+b"
   ]
  },
  {
   "cell_type": "code",
   "execution_count": 64,
   "id": "ffd0c55d-7662-43a3-9126-15aaad317c7f",
   "metadata": {},
   "outputs": [
    {
     "data": {
      "text/plain": [
       "-50"
      ]
     },
     "execution_count": 64,
     "metadata": {},
     "output_type": "execute_result"
    }
   ],
   "source": [
    "a-b"
   ]
  },
  {
   "cell_type": "code",
   "execution_count": 62,
   "id": "f36287b4-18db-440a-9cb1-90d892218c78",
   "metadata": {},
   "outputs": [
    {
     "data": {
      "text/plain": [
       "0.40476190476190477"
      ]
     },
     "execution_count": 62,
     "metadata": {},
     "output_type": "execute_result"
    }
   ],
   "source": [
    "a/b"
   ]
  },
  {
   "cell_type": "code",
   "execution_count": 63,
   "id": "666b887b-4341-4a73-b61f-2a10cb778767",
   "metadata": {},
   "outputs": [
    {
     "data": {
      "text/plain": [
       "0"
      ]
     },
     "execution_count": 63,
     "metadata": {},
     "output_type": "execute_result"
    }
   ],
   "source": [
    "a//b"
   ]
  },
  {
   "cell_type": "code",
   "execution_count": 65,
   "id": "58cffcbb-18f7-45b4-8719-3d542fcdd747",
   "metadata": {},
   "outputs": [
    {
     "data": {
      "text/plain": [
       "34"
      ]
     },
     "execution_count": 65,
     "metadata": {},
     "output_type": "execute_result"
    }
   ],
   "source": [
    "a%b"
   ]
  },
  {
   "cell_type": "markdown",
   "id": "60793cb2-a0f6-4782-9f3c-5ebc2f2a387b",
   "metadata": {},
   "source": [
    "### Bitwise Operator\n",
    "|operation|Meaning|\n",
    "|:-:|:-:|\n",
    "|**~**|bitwise complement (prefix unary operator)|\n",
    "|**&**|bitwise and|\n",
    "|**\\|** |bitwise or|\n",
    "|**^** |bitwise exclusive-or|\n",
    "|**<<**|shift bits left, filling in with zeros|\n",
    "|**>>** |shift bits right, filling in the sign bit|\n"
   ]
  },
  {
   "cell_type": "code",
   "execution_count": 67,
   "id": "e3d547e3-0631-4b60-93f7-8b277a948a20",
   "metadata": {},
   "outputs": [
    {
     "data": {
      "text/plain": [
       "'0b1010'"
      ]
     },
     "execution_count": 67,
     "metadata": {},
     "output_type": "execute_result"
    }
   ],
   "source": [
    "var=10\n",
    "bin(var)"
   ]
  },
  {
   "cell_type": "code",
   "execution_count": 68,
   "id": "c64339db-8474-4e03-826a-01eb54e50085",
   "metadata": {},
   "outputs": [
    {
     "data": {
      "text/plain": [
       "-11"
      ]
     },
     "execution_count": 68,
     "metadata": {},
     "output_type": "execute_result"
    }
   ],
   "source": [
    "~var"
   ]
  },
  {
   "cell_type": "code",
   "execution_count": 1,
   "id": "3f7bc8fd-c5a5-4b1b-807b-b155552e48aa",
   "metadata": {},
   "outputs": [
    {
     "data": {
      "text/plain": [
       "True"
      ]
     },
     "execution_count": 1,
     "metadata": {},
     "output_type": "execute_result"
    }
   ],
   "source": [
    "True | False"
   ]
  },
  {
   "cell_type": "code",
   "execution_count": 10,
   "id": "4c13bd8b-f83e-4ccd-a1a4-4a346daf9e4f",
   "metadata": {},
   "outputs": [
    {
     "data": {
      "text/plain": [
       "False"
      ]
     },
     "execution_count": 10,
     "metadata": {},
     "output_type": "execute_result"
    }
   ],
   "source": [
    "False & True"
   ]
  },
  {
   "cell_type": "markdown",
   "id": "8b7634f4-51f3-43ad-889e-379186a7e670",
   "metadata": {},
   "source": [
    "## Strings"
   ]
  },
  {
   "cell_type": "code",
   "execution_count": 9,
   "id": "3ee75420-3de6-49ee-88fb-e64c5f03428d",
   "metadata": {},
   "outputs": [
    {
     "data": {
      "text/plain": [
       "'Welcome to Data Science Master'"
      ]
     },
     "execution_count": 9,
     "metadata": {},
     "output_type": "execute_result"
    }
   ],
   "source": [
    "\"Welcome to Data Science Master\""
   ]
  },
  {
   "cell_type": "code",
   "execution_count": 11,
   "id": "d2b17719-9400-4e2d-b650-8dad287360ad",
   "metadata": {},
   "outputs": [],
   "source": [
    "str1=\"Welcome to Data Science Masters\""
   ]
  },
  {
   "cell_type": "code",
   "execution_count": 16,
   "id": "b5180091-4788-4ba9-964f-8c56be25643b",
   "metadata": {},
   "outputs": [
    {
     "data": {
      "text/plain": [
       "str"
      ]
     },
     "execution_count": 16,
     "metadata": {},
     "output_type": "execute_result"
    }
   ],
   "source": [
    "type(str1)"
   ]
  },
  {
   "cell_type": "code",
   "execution_count": 17,
   "id": "41b9d68a-acd8-47d5-b634-380ee6f52e4a",
   "metadata": {},
   "outputs": [
    {
     "data": {
      "text/plain": [
       "'W'"
      ]
     },
     "execution_count": 17,
     "metadata": {},
     "output_type": "execute_result"
    }
   ],
   "source": [
    "str1[0]"
   ]
  },
  {
   "cell_type": "code",
   "execution_count": 18,
   "id": "2079e125-3994-410d-903c-523af7f80001",
   "metadata": {},
   "outputs": [],
   "source": [
    "str=\"Adil Mirza\""
   ]
  },
  {
   "cell_type": "code",
   "execution_count": 19,
   "id": "fc13aefc-e22c-4ff4-93cc-76b58b05b52f",
   "metadata": {},
   "outputs": [
    {
     "data": {
      "text/plain": [
       "'Adil Mirza'"
      ]
     },
     "execution_count": 19,
     "metadata": {},
     "output_type": "execute_result"
    }
   ],
   "source": [
    "str"
   ]
  },
  {
   "cell_type": "code",
   "execution_count": 20,
   "id": "ceb32c4c-dabc-4a4d-9dcf-e72b9ede3bbd",
   "metadata": {},
   "outputs": [],
   "source": [
    "str1=\"hello world\""
   ]
  },
  {
   "cell_type": "code",
   "execution_count": null,
   "id": "b2783d2d-1821-4877-a75b-8dc80035eade",
   "metadata": {},
   "outputs": [],
   "source": [
    "str1."
   ]
  },
  {
   "cell_type": "code",
   "execution_count": 23,
   "id": "f31f704c-2970-4c90-944b-b75799d9c27d",
   "metadata": {},
   "outputs": [],
   "source": [
    "string =\"Pw skills Data Science\""
   ]
  },
  {
   "cell_type": "code",
   "execution_count": 24,
   "id": "aa0c9a46-0c76-4520-9e3d-bba8baafc66e",
   "metadata": {},
   "outputs": [
    {
     "data": {
      "text/plain": [
       "'i'"
      ]
     },
     "execution_count": 24,
     "metadata": {},
     "output_type": "execute_result"
    }
   ],
   "source": [
    "string[5]"
   ]
  },
  {
   "cell_type": "code",
   "execution_count": 25,
   "id": "84184457-d96f-4a95-a294-f7b10e03fe42",
   "metadata": {},
   "outputs": [
    {
     "data": {
      "text/plain": [
       "'ills Data Science'"
      ]
     },
     "execution_count": 25,
     "metadata": {},
     "output_type": "execute_result"
    }
   ],
   "source": [
    "## slice operation\n",
    "string[5:]"
   ]
  },
  {
   "cell_type": "code",
   "execution_count": 26,
   "id": "461cabbf-b1b2-439a-b538-b022416b4716",
   "metadata": {},
   "outputs": [
    {
     "data": {
      "text/plain": [
       "'ills D'"
      ]
     },
     "execution_count": 26,
     "metadata": {},
     "output_type": "execute_result"
    }
   ],
   "source": [
    "string[5:11]"
   ]
  },
  {
   "cell_type": "code",
   "execution_count": 27,
   "id": "e889deea-0305-42b7-8ac9-8f6a6ad86c3a",
   "metadata": {},
   "outputs": [
    {
     "data": {
      "text/plain": [
       "'e'"
      ]
     },
     "execution_count": 27,
     "metadata": {},
     "output_type": "execute_result"
    }
   ],
   "source": [
    "string[-1]"
   ]
  },
  {
   "cell_type": "code",
   "execution_count": 31,
   "id": "62cf0fc8-9e7a-45b2-a7ab-a6305b5f124d",
   "metadata": {},
   "outputs": [
    {
     "data": {
      "text/plain": [
       "'Scie'"
      ]
     },
     "execution_count": 31,
     "metadata": {},
     "output_type": "execute_result"
    }
   ],
   "source": [
    "string[-7:-3]"
   ]
  },
  {
   "cell_type": "code",
   "execution_count": 32,
   "id": "82687c95-9699-4ec0-a8a1-abdb0b3e3a1b",
   "metadata": {},
   "outputs": [
    {
     "data": {
      "text/plain": [
       "''"
      ]
     },
     "execution_count": 32,
     "metadata": {},
     "output_type": "execute_result"
    }
   ],
   "source": [
    "string[-7:5]"
   ]
  },
  {
   "cell_type": "code",
   "execution_count": 34,
   "id": "a9857402-1fba-48d4-9d93-dc53a6578e6b",
   "metadata": {},
   "outputs": [
    {
     "data": {
      "text/plain": [
       "'Pw skills Data Scienc'"
      ]
     },
     "execution_count": 34,
     "metadata": {},
     "output_type": "execute_result"
    }
   ],
   "source": [
    "string[:-1]"
   ]
  },
  {
   "cell_type": "code",
   "execution_count": 35,
   "id": "edcc75c7-834a-48ce-b04d-5119eeea8e99",
   "metadata": {},
   "outputs": [
    {
     "data": {
      "text/plain": [
       "'Pw skills Data Science'"
      ]
     },
     "execution_count": 35,
     "metadata": {},
     "output_type": "execute_result"
    }
   ],
   "source": [
    "string[:]"
   ]
  },
  {
   "cell_type": "code",
   "execution_count": 36,
   "id": "55ef2ef6-d8b4-4b22-ad36-2e52d41ba989",
   "metadata": {},
   "outputs": [
    {
     "data": {
      "text/plain": [
       "'Mirz'"
      ]
     },
     "execution_count": 36,
     "metadata": {},
     "output_type": "execute_result"
    }
   ],
   "source": [
    "name=\"Mirza\"\n",
    "name[-5:4]"
   ]
  },
  {
   "cell_type": "code",
   "execution_count": 39,
   "id": "03497c8e-d4e4-43bb-a33e-2312eceba300",
   "metadata": {},
   "outputs": [
    {
     "data": {
      "text/plain": [
       "'ecneicS ataD slliks wP'"
      ]
     },
     "execution_count": 39,
     "metadata": {},
     "output_type": "execute_result"
    }
   ],
   "source": [
    "string[::-1]"
   ]
  },
  {
   "cell_type": "code",
   "execution_count": 40,
   "id": "b3f257f7-02b2-4144-9289-ad0cc0616988",
   "metadata": {},
   "outputs": [],
   "source": [
    "name=\"Adil\""
   ]
  },
  {
   "cell_type": "code",
   "execution_count": 41,
   "id": "a80628c9-211a-4772-9da1-a9e5deed4d27",
   "metadata": {},
   "outputs": [
    {
     "data": {
      "text/plain": [
       "'lidA'"
      ]
     },
     "execution_count": 41,
     "metadata": {},
     "output_type": "execute_result"
    }
   ],
   "source": [
    "name[::-1]"
   ]
  },
  {
   "cell_type": "code",
   "execution_count": 32,
   "id": "45f2d6b8-a41a-47ed-8eeb-12e38f36420a",
   "metadata": {},
   "outputs": [],
   "source": [
    "course_name=\"Data Science Master\""
   ]
  },
  {
   "cell_type": "code",
   "execution_count": 31,
   "id": "42529dc0-b9b9-4c71-a125-1fb4ef9569bb",
   "metadata": {},
   "outputs": [
    {
     "data": {
      "text/plain": [
       "'Science'"
      ]
     },
     "execution_count": 31,
     "metadata": {},
     "output_type": "execute_result"
    }
   ],
   "source": [
    "course_name[5:12]"
   ]
  },
  {
   "cell_type": "code",
   "execution_count": 30,
   "id": "bb9ebe63-9fc8-47a3-a09c-e1e14754ee82",
   "metadata": {},
   "outputs": [
    {
     "data": {
      "text/plain": [
       "' ecnei'"
      ]
     },
     "execution_count": 30,
     "metadata": {},
     "output_type": "execute_result"
    }
   ],
   "source": [
    "course_name[12:6:-1]"
   ]
  },
  {
   "cell_type": "code",
   "execution_count": 29,
   "id": "d57ed17f-3a9e-45da-b385-69a8c4fc2a24",
   "metadata": {},
   "outputs": [
    {
     "data": {
      "text/plain": [
       "'Data Science MasterCourse'"
      ]
     },
     "execution_count": 29,
     "metadata": {},
     "output_type": "execute_result"
    }
   ],
   "source": [
    "## concatentation\n",
    "course_name + \"Course\""
   ]
  },
  {
   "cell_type": "code",
   "execution_count": 28,
   "id": "03d17e54-6876-4118-91e1-6b47e5933c67",
   "metadata": {},
   "outputs": [
    {
     "data": {
      "text/plain": [
       "' Science'"
      ]
     },
     "execution_count": 28,
     "metadata": {},
     "output_type": "execute_result"
    }
   ],
   "source": [
    "course_name[4:12:1]"
   ]
  },
  {
   "cell_type": "code",
   "execution_count": 6,
   "id": "94cc03e5-f39f-4377-a5e2-b10dc523758a",
   "metadata": {},
   "outputs": [
    {
     "name": "stdout",
     "output_type": "stream",
     "text": [
      "HelloWorlds\n"
     ]
    }
   ],
   "source": [
    "print(\"Hello\" + \"Worlds\")"
   ]
  },
  {
   "cell_type": "code",
   "execution_count": 24,
   "id": "0ff06d85-f8f2-4897-a558-32ab7f2d09c7",
   "metadata": {},
   "outputs": [
    {
     "data": {
      "text/plain": [
       "'Data Science MasterData Science MasterData Science MasterData Science Master'"
      ]
     },
     "execution_count": 24,
     "metadata": {},
     "output_type": "execute_result"
    }
   ],
   "source": [
    "course_name *4"
   ]
  },
  {
   "cell_type": "code",
   "execution_count": 34,
   "id": "42c1a723-d079-4322-b1f1-07bf0dcf380e",
   "metadata": {},
   "outputs": [
    {
     "data": {
      "text/plain": [
       "19"
      ]
     },
     "execution_count": 34,
     "metadata": {},
     "output_type": "execute_result"
    }
   ],
   "source": [
    "len(course_name)"
   ]
  },
  {
   "cell_type": "code",
   "execution_count": 40,
   "id": "3d07b676-06a1-415a-9dcc-4bcf8c234a6c",
   "metadata": {},
   "outputs": [
    {
     "data": {
      "text/plain": [
       "'Data Science Master'"
      ]
     },
     "execution_count": 40,
     "metadata": {},
     "output_type": "execute_result"
    }
   ],
   "source": [
    "course_name"
   ]
  },
  {
   "cell_type": "code",
   "execution_count": 53,
   "id": "87f73398-167c-4afa-82a8-9802b7993179",
   "metadata": {},
   "outputs": [
    {
     "data": {
      "text/plain": [
       "9"
      ]
     },
     "execution_count": 53,
     "metadata": {},
     "output_type": "execute_result"
    }
   ],
   "source": [
    "## find function\n",
    "course_name.find(\"n\")"
   ]
  },
  {
   "cell_type": "code",
   "execution_count": 54,
   "id": "a3d7d2ed-80ff-46c1-9d80-c26ad82d9b5c",
   "metadata": {},
   "outputs": [
    {
     "data": {
      "text/plain": [
       "3"
      ]
     },
     "execution_count": 54,
     "metadata": {},
     "output_type": "execute_result"
    }
   ],
   "source": [
    "course_name.find(\"a\",2,10)"
   ]
  },
  {
   "cell_type": "code",
   "execution_count": 43,
   "id": "4b19dfb5-75a9-4eb1-b652-6b5da256d609",
   "metadata": {},
   "outputs": [
    {
     "data": {
      "text/plain": [
       "<function str.count>"
      ]
     },
     "execution_count": 43,
     "metadata": {},
     "output_type": "execute_result"
    }
   ],
   "source": [
    "## count()\n",
    "course_name.count"
   ]
  },
  {
   "cell_type": "code",
   "execution_count": 47,
   "id": "ed8b6a74-66ab-454d-b3c7-dcf4399d7428",
   "metadata": {},
   "outputs": [
    {
     "data": {
      "text/plain": [
       "2"
      ]
     },
     "execution_count": 47,
     "metadata": {},
     "output_type": "execute_result"
    }
   ],
   "source": [
    "course_name.count(' ')"
   ]
  },
  {
   "cell_type": "code",
   "execution_count": 49,
   "id": "f208e130-5b8d-4969-bf48-2362f7732dfe",
   "metadata": {},
   "outputs": [
    {
     "data": {
      "text/plain": [
       "3"
      ]
     },
     "execution_count": 49,
     "metadata": {},
     "output_type": "execute_result"
    }
   ],
   "source": [
    "course_name.count(\"a\")"
   ]
  },
  {
   "cell_type": "code",
   "execution_count": 50,
   "id": "28da77a8-d4c7-4d6d-8e16-d637a345632f",
   "metadata": {},
   "outputs": [
    {
     "data": {
      "text/plain": [
       "5"
      ]
     },
     "execution_count": 50,
     "metadata": {},
     "output_type": "execute_result"
    }
   ],
   "source": [
    "course_name.find(\"Science\")"
   ]
  },
  {
   "cell_type": "code",
   "execution_count": 51,
   "id": "44538bfe-8fc9-4a53-a6ad-b486dfb51ec8",
   "metadata": {},
   "outputs": [],
   "source": [
    "## string split function"
   ]
  },
  {
   "cell_type": "code",
   "execution_count": 52,
   "id": "d8a3b790-60f1-4409-97b7-ab0dfadb6907",
   "metadata": {},
   "outputs": [
    {
     "data": {
      "text/plain": [
       "['Data', 'Science', 'Master']"
      ]
     },
     "execution_count": 52,
     "metadata": {},
     "output_type": "execute_result"
    }
   ],
   "source": [
    "course_name.split(' ')"
   ]
  },
  {
   "cell_type": "code",
   "execution_count": 55,
   "id": "a77664d8-7bfd-4513-b58d-1ee581649149",
   "metadata": {},
   "outputs": [
    {
     "data": {
      "text/plain": [
       "['Data ', 'cience Master']"
      ]
     },
     "execution_count": 55,
     "metadata": {},
     "output_type": "execute_result"
    }
   ],
   "source": [
    "course_name.split('S')"
   ]
  },
  {
   "cell_type": "code",
   "execution_count": 57,
   "id": "ed589bef-e3e2-451a-9d31-1edd2554f534",
   "metadata": {},
   "outputs": [
    {
     "data": {
      "text/plain": [
       "('Data ', 'S', 'cience Master')"
      ]
     },
     "execution_count": 57,
     "metadata": {},
     "output_type": "execute_result"
    }
   ],
   "source": [
    "course_name.partition(\"S\")"
   ]
  },
  {
   "cell_type": "code",
   "execution_count": 58,
   "id": "fca77dc6-03fa-4b6c-b57a-256f78a81e9f",
   "metadata": {},
   "outputs": [
    {
     "data": {
      "text/plain": [
       "'DATA SCIENCE MASTER'"
      ]
     },
     "execution_count": 58,
     "metadata": {},
     "output_type": "execute_result"
    }
   ],
   "source": [
    "## String upper and lowercase\n",
    "course_name.upper()"
   ]
  },
  {
   "cell_type": "code",
   "execution_count": 59,
   "id": "f286ec26-f7ff-4e0a-888d-1efdf1537cbe",
   "metadata": {},
   "outputs": [
    {
     "data": {
      "text/plain": [
       "'data science master'"
      ]
     },
     "execution_count": 59,
     "metadata": {},
     "output_type": "execute_result"
    }
   ],
   "source": [
    "course_name.lower()"
   ]
  },
  {
   "cell_type": "code",
   "execution_count": 62,
   "id": "38cd320f-8053-4c48-a7bb-312f9934c5e1",
   "metadata": {},
   "outputs": [
    {
     "data": {
      "text/plain": [
       "'Data Science Master'"
      ]
     },
     "execution_count": 62,
     "metadata": {},
     "output_type": "execute_result"
    }
   ],
   "source": [
    "course_name"
   ]
  },
  {
   "cell_type": "code",
   "execution_count": 63,
   "id": "6c9c058c-682c-47ca-8d76-6855b9a7aa67",
   "metadata": {},
   "outputs": [
    {
     "data": {
      "text/plain": [
       "'dATA sCIENCE mASTER'"
      ]
     },
     "execution_count": 63,
     "metadata": {},
     "output_type": "execute_result"
    }
   ],
   "source": [
    "course_name.swapcase()"
   ]
  },
  {
   "cell_type": "code",
   "execution_count": 64,
   "id": "e3896fd4-2dad-4fa4-bf9f-ac0de347c8f8",
   "metadata": {},
   "outputs": [
    {
     "data": {
      "text/plain": [
       "'Data Science Master'"
      ]
     },
     "execution_count": 64,
     "metadata": {},
     "output_type": "execute_result"
    }
   ],
   "source": [
    "course_name.title()"
   ]
  },
  {
   "cell_type": "code",
   "execution_count": 66,
   "id": "259d6fb4-8ef0-4773-830b-87792fda9597",
   "metadata": {},
   "outputs": [],
   "source": [
    "name=\"adil mirza\""
   ]
  },
  {
   "cell_type": "code",
   "execution_count": 67,
   "id": "61c317f9-5cb4-4931-826c-d5306791a4d5",
   "metadata": {},
   "outputs": [
    {
     "data": {
      "text/plain": [
       "'Adil Mirza'"
      ]
     },
     "execution_count": 67,
     "metadata": {},
     "output_type": "execute_result"
    }
   ],
   "source": [
    "name.title()"
   ]
  },
  {
   "cell_type": "code",
   "execution_count": null,
   "id": "113f6b16-ba2c-4218-a5cf-ebf359cb42f0",
   "metadata": {},
   "outputs": [],
   "source": []
  }
 ],
 "metadata": {
  "kernelspec": {
   "display_name": "Python 3 (ipykernel)",
   "language": "python",
   "name": "python3"
  },
  "language_info": {
   "codemirror_mode": {
    "name": "ipython",
    "version": 3
   },
   "file_extension": ".py",
   "mimetype": "text/x-python",
   "name": "python",
   "nbconvert_exporter": "python",
   "pygments_lexer": "ipython3",
   "version": "3.10.8"
  }
 },
 "nbformat": 4,
 "nbformat_minor": 5
}
